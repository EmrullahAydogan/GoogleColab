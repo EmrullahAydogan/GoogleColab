{
  "nbformat": 4,
  "nbformat_minor": 0,
  "metadata": {
    "colab": {
      "provenance": [],
      "include_colab_link": true
    },
    "kernelspec": {
      "name": "python3",
      "display_name": "Python 3"
    },
    "language_info": {
      "name": "python"
    }
  },
  "cells": [
    {
      "cell_type": "markdown",
      "metadata": {
        "id": "view-in-github",
        "colab_type": "text"
      },
      "source": [
        "<a href=\"https://colab.research.google.com/github/EmrullahAydogan/GoogleColab/blob/main/object_oriented_programming.ipynb\" target=\"_parent\"><img src=\"https://colab.research.google.com/assets/colab-badge.svg\" alt=\"Open In Colab\"/></a>"
      ]
    },
    {
      "cell_type": "code",
      "source": [
        "listed = [1, 2, 3, 4, 5]\n",
        "listed"
      ],
      "metadata": {
        "colab": {
          "base_uri": "https://localhost:8080/"
        },
        "id": "lkIUs-KAspgW",
        "outputId": "233357fc-cc44-49b7-bc74-82a476d108a7"
      },
      "execution_count": 1,
      "outputs": [
        {
          "output_type": "execute_result",
          "data": {
            "text/plain": [
              "[1, 2, 3, 4, 5]"
            ]
          },
          "metadata": {},
          "execution_count": 1
        }
      ]
    },
    {
      "cell_type": "code",
      "source": [
        "text = \"Hello I am an object\""
      ],
      "metadata": {
        "id": "5IjUTxRZ_qzB"
      },
      "execution_count": 2,
      "outputs": []
    },
    {
      "cell_type": "code",
      "source": [
        "def summation(a, b):\n",
        "  return a + b\n",
        "\n",
        "print(type(summation))"
      ],
      "metadata": {
        "colab": {
          "base_uri": "https://localhost:8080/"
        },
        "id": "cyvEgRzf_5mY",
        "outputId": "9dcfe66c-d83e-4997-e0f9-0118fee74af2"
      },
      "execution_count": 3,
      "outputs": [
        {
          "output_type": "stream",
          "name": "stdout",
          "text": [
            "<class 'function'>\n"
          ]
        }
      ]
    },
    {
      "cell_type": "code",
      "source": [
        "class Person():\n",
        "  name = \"Joey\"\n",
        "  surname = \"Aniston\"\n",
        "  age = 23\n",
        "  gender = \"Male\""
      ],
      "metadata": {
        "id": "kN4jfelWCu9J"
      },
      "execution_count": 4,
      "outputs": []
    },
    {
      "cell_type": "code",
      "source": [
        "person = Person()"
      ],
      "metadata": {
        "id": "Gor1txgLI1cX"
      },
      "execution_count": 5,
      "outputs": []
    },
    {
      "cell_type": "code",
      "source": [
        "print(person.name)\n",
        "print(person.surname)\n",
        "print(person.age)\n",
        "print(person.gender)"
      ],
      "metadata": {
        "colab": {
          "base_uri": "https://localhost:8080/"
        },
        "id": "26fHbzZPJGtG",
        "outputId": "d519c4b6-7de3-4bf1-df97-5879c9c25e6a"
      },
      "execution_count": 6,
      "outputs": [
        {
          "output_type": "stream",
          "name": "stdout",
          "text": [
            "Joey\n",
            "Aniston\n",
            "23\n",
            "Male\n"
          ]
        }
      ]
    },
    {
      "cell_type": "code",
      "source": [
        "class Person():\n",
        "  def __init__(self, name, surname, age, gender):\n",
        "    self.name = name\n",
        "    self.surname = surname\n",
        "    self.age = age\n",
        "    self.gender = gender"
      ],
      "metadata": {
        "id": "3jRexsAiQUso"
      },
      "execution_count": 7,
      "outputs": []
    },
    {
      "cell_type": "code",
      "source": [
        "person2 = Person(\"Joey\", \"Aniston\", 23, \"male\")"
      ],
      "metadata": {
        "id": "xeoLe74pQrnY"
      },
      "execution_count": 8,
      "outputs": []
    },
    {
      "cell_type": "code",
      "source": [
        "print(person2.name)\n",
        "print(person2.surname)\n",
        "print(person2.age)\n",
        "print(person2.gender)"
      ],
      "metadata": {
        "colab": {
          "base_uri": "https://localhost:8080/"
        },
        "id": "KxYHx--5ViCK",
        "outputId": "23f619a3-41d9-4f54-dc0a-74dd1d5f0c70"
      },
      "execution_count": 9,
      "outputs": [
        {
          "output_type": "stream",
          "name": "stdout",
          "text": [
            "Joey\n",
            "Aniston\n",
            "23\n",
            "male\n"
          ]
        }
      ]
    },
    {
      "cell_type": "code",
      "source": [
        "type(person2) # list1 is actually a list object."
      ],
      "metadata": {
        "colab": {
          "base_uri": "https://localhost:8080/"
        },
        "id": "KQNgOUeIeInL",
        "outputId": "f43d7a2c-6142-4582-9c9a-7dad3a2880cf"
      },
      "execution_count": 12,
      "outputs": [
        {
          "output_type": "execute_result",
          "data": {
            "text/plain": [
              "__main__.Person"
            ]
          },
          "metadata": {},
          "execution_count": 12
        }
      ]
    },
    {
      "cell_type": "code",
      "source": [
        "def summation(a, b):\n",
        "  return a + b\n",
        "\n",
        "type(summation) # the function is also a object in programming world"
      ],
      "metadata": {
        "colab": {
          "base_uri": "https://localhost:8080/"
        },
        "id": "0HW52SYGf3Hb",
        "outputId": "402f7e3a-2d6a-49a8-e2e2-2eebad53b875"
      },
      "execution_count": 13,
      "outputs": [
        {
          "output_type": "execute_result",
          "data": {
            "text/plain": [
              "function"
            ]
          },
          "metadata": {},
          "execution_count": 13
        }
      ]
    },
    {
      "cell_type": "code",
      "source": [
        "class MyCompany():\n",
        "  company_name = \"Dark Blue\"\n",
        "  foundation_year = 2020\n",
        "  founder_name = \"John Doe\"\n",
        "  number_of_department = 5\n",
        "  sector = \"Healthcare\""
      ],
      "metadata": {
        "id": "CDBT4J2t5ZLs"
      },
      "execution_count": 14,
      "outputs": []
    },
    {
      "cell_type": "code",
      "source": [
        "myObject = MyCompany()"
      ],
      "metadata": {
        "id": "6hT6ciz47suo"
      },
      "execution_count": 15,
      "outputs": []
    },
    {
      "cell_type": "code",
      "source": [
        "print(myObject.company_name)\n",
        "print(myObject.foundation_year)\n",
        "print(myObject.founder_name)\n",
        "print(myObject.number_of_department)"
      ],
      "metadata": {
        "colab": {
          "base_uri": "https://localhost:8080/"
        },
        "id": "LUFr0-UJI8kN",
        "outputId": "e1878bd1-166d-4779-e1ef-ad02f80de06a"
      },
      "execution_count": 16,
      "outputs": [
        {
          "output_type": "stream",
          "name": "stdout",
          "text": [
            "Dark Blue\n",
            "2020\n",
            "John Doe\n",
            "5\n"
          ]
        }
      ]
    },
    {
      "cell_type": "code",
      "source": [
        "class MyCompany():\n",
        "  def __init__(self, company_name, foundation_year, founder_name, number_of_department, sector):\n",
        "    self.company_name = company_name\n",
        "    self.foundation_year = foundation_year\n",
        "    self.founder_name = founder_name\n",
        "    self.number_of_department = number_of_department\n",
        "    self.sector = sector"
      ],
      "metadata": {
        "id": "UETx1IK4WP5x"
      },
      "execution_count": 19,
      "outputs": []
    },
    {
      "cell_type": "code",
      "source": [
        "mycompany = MyCompany(\"Dark Blue\", 2020, \"John Doe\", 5, \"Healthcare\")\n",
        "print(mycompany.company_name)\n",
        "print(mycompany.foundation_year)\n",
        "print(mycompany.founder_name)\n",
        "print(mycompany.number_of_department)\n",
        "print(mycompany.sector)"
      ],
      "metadata": {
        "id": "K11V5qd9zNd_",
        "colab": {
          "base_uri": "https://localhost:8080/"
        },
        "outputId": "d41b0a49-4442-4b08-b07e-0a08048bccf1"
      },
      "execution_count": 20,
      "outputs": [
        {
          "output_type": "stream",
          "name": "stdout",
          "text": [
            "Dark Blue\n",
            "2020\n",
            "John Doe\n",
            "5\n",
            "Healthcare\n"
          ]
        }
      ]
    },
    {
      "cell_type": "code",
      "source": [
        "mycompany = MyCompany(\"Red White\", 2002, \"Michael Jackson \", 4, \"Banking\")\n",
        "print(mycompany.company_name)\n",
        "print(mycompany.foundation_year)\n",
        "print(mycompany.founder_name)\n",
        "print(mycompany.number_of_department)\n",
        "print(mycompany.sector)"
      ],
      "metadata": {
        "id": "WoYZBlMHRW2U",
        "colab": {
          "base_uri": "https://localhost:8080/"
        },
        "outputId": "7b8b8236-60c6-4c15-c77b-fb4f59d3a466"
      },
      "execution_count": 21,
      "outputs": [
        {
          "output_type": "stream",
          "name": "stdout",
          "text": [
            "Red White\n",
            "2002\n",
            "Michael Jackson \n",
            "4\n",
            "Banking\n"
          ]
        }
      ]
    },
    {
      "cell_type": "code",
      "source": [
        "class Car():\n",
        "  brand = \"Mercedes\"\n",
        "  color = \"Blue\"\n",
        "  production_year = 2020\n",
        "  steamroller = 4"
      ],
      "metadata": {
        "id": "KApT-s-3_wOt"
      },
      "execution_count": 23,
      "outputs": []
    },
    {
      "cell_type": "code",
      "source": [
        "class Car():\n",
        "  brand = \"Audi\"\n",
        "  color = \"Blue\"\n",
        "  production_year = 2020\n",
        "  steamroller = 4"
      ],
      "metadata": {
        "id": "wrPt1HYQlBq8"
      },
      "execution_count": 24,
      "outputs": []
    },
    {
      "cell_type": "code",
      "source": [
        "dir(Car)"
      ],
      "metadata": {
        "colab": {
          "base_uri": "https://localhost:8080/"
        },
        "id": "kVlOd-x4AJfl",
        "outputId": "899725cd-4fe0-4070-fdda-224305a7db21"
      },
      "execution_count": 27,
      "outputs": [
        {
          "output_type": "execute_result",
          "data": {
            "text/plain": [
              "['__class__',\n",
              " '__delattr__',\n",
              " '__dict__',\n",
              " '__dir__',\n",
              " '__doc__',\n",
              " '__eq__',\n",
              " '__format__',\n",
              " '__ge__',\n",
              " '__getattribute__',\n",
              " '__gt__',\n",
              " '__hash__',\n",
              " '__init__',\n",
              " '__init_subclass__',\n",
              " '__le__',\n",
              " '__lt__',\n",
              " '__module__',\n",
              " '__ne__',\n",
              " '__new__',\n",
              " '__reduce__',\n",
              " '__reduce_ex__',\n",
              " '__repr__',\n",
              " '__setattr__',\n",
              " '__sizeof__',\n",
              " '__str__',\n",
              " '__subclasshook__',\n",
              " '__weakref__',\n",
              " 'brand',\n",
              " 'color',\n",
              " 'production_year',\n",
              " 'steamroller']"
            ]
          },
          "metadata": {},
          "execution_count": 27
        }
      ]
    },
    {
      "cell_type": "code",
      "source": [
        "class Car():\n",
        "  def __init__(self):\n",
        "    print(\"the function is working...\")"
      ],
      "metadata": {
        "id": "0kU50Nl49yNR"
      },
      "execution_count": 28,
      "outputs": []
    },
    {
      "cell_type": "code",
      "source": [
        "car3 = Car() # as you see, the function is working automatically"
      ],
      "metadata": {
        "colab": {
          "base_uri": "https://localhost:8080/"
        },
        "id": "yA3bp-I3NEqj",
        "outputId": "a2243d49-6f95-45a1-e44d-94af75f6a668"
      },
      "execution_count": 29,
      "outputs": [
        {
          "output_type": "stream",
          "name": "stdout",
          "text": [
            "the function is working...\n"
          ]
        }
      ]
    },
    {
      "cell_type": "code",
      "source": [
        "class Car():\n",
        "  def __init__(self, model, color, hp, steamroller):\n",
        "    self.model = model\n",
        "    self.color = color\n",
        "    self.hp = hp\n",
        "    self.steamroller = steamroller"
      ],
      "metadata": {
        "id": "jIHX52MDNOQ1"
      },
      "execution_count": 35,
      "outputs": []
    },
    {
      "cell_type": "code",
      "source": [
        "car1 = Car(\"Audi\", \"Green\", 180, 4)"
      ],
      "metadata": {
        "id": "WLqqnbn5N8q7"
      },
      "execution_count": 36,
      "outputs": []
    },
    {
      "cell_type": "code",
      "source": [
        "print(car1.model)\n",
        "print(car1.color)\n",
        "print(car1.hp)\n",
        "print(car1.steamroller)"
      ],
      "metadata": {
        "colab": {
          "base_uri": "https://localhost:8080/"
        },
        "id": "SYPF2DgQOhPN",
        "outputId": "1291edbc-1cd6-42e2-fff8-31a6ad57e6b2"
      },
      "execution_count": 37,
      "outputs": [
        {
          "output_type": "stream",
          "name": "stdout",
          "text": [
            "Audi\n",
            "Green\n",
            "180\n",
            "4\n"
          ]
        }
      ]
    },
    {
      "cell_type": "code",
      "source": [
        "car2 = Car(\"Opel\", \"Red\", 120, 4)"
      ],
      "metadata": {
        "id": "RAEYV0RvOo7o"
      },
      "execution_count": 38,
      "outputs": []
    },
    {
      "cell_type": "code",
      "source": [
        "print(car2.model)\n",
        "print(car2.color)\n",
        "print(car2.hp)\n",
        "print(car2.steamroller)"
      ],
      "metadata": {
        "colab": {
          "base_uri": "https://localhost:8080/"
        },
        "id": "kKvDkkpbOw40",
        "outputId": "1b7f5622-85d3-4f95-b064-17b0267db72d"
      },
      "execution_count": 39,
      "outputs": [
        {
          "output_type": "stream",
          "name": "stdout",
          "text": [
            "Opel\n",
            "Red\n",
            "120\n",
            "4\n"
          ]
        }
      ]
    },
    {
      "cell_type": "markdown",
      "source": [
        "# Methodlar\n",
        "\n",
        "Bu classın sahibi olduğu özellikleri oluşturmak istiyoruz."
      ],
      "metadata": {
        "id": "7lgb4s5X-0Zg"
      }
    },
    {
      "cell_type": "code",
      "source": [
        "class Employee():\n",
        "  def __init__(self, name, surname, age, salary, title):\n",
        "    self.name = name\n",
        "    self.surname = surname\n",
        "    self.age = age\n",
        "    self.salary = salary\n",
        "    self.title = title\n",
        "\n",
        "  def get_information(self):\n",
        "    print(\"\"\"\n",
        "    Name: {}\n",
        "    Surname: {}\n",
        "    Age: {}\n",
        "    Salary: {}\n",
        "    Title: {}\n",
        "    \"\"\".format(self.name, self.surname, self.age, self.salary, self.title))\n",
        "\n",
        "  def change_title(self, title):\n",
        "    self.title = title\n",
        "    print(\"The new title is {}\".format(self.title))\n",
        "\n",
        "  def increase_salary(self, increase_rate):\n",
        "    self.salary += self.salary * increase_rate\n",
        "    print(\"The new salary is {}\".format(self.salary))"
      ],
      "metadata": {
        "id": "Myajw6_h-qpF"
      },
      "execution_count": 40,
      "outputs": []
    },
    {
      "cell_type": "code",
      "source": [
        "employee = Employee('John', 'Doe', 27, 3000, 'Finance Spealist')\n",
        "employee.get_information()"
      ],
      "metadata": {
        "colab": {
          "base_uri": "https://localhost:8080/"
        },
        "id": "CTrtZpYG_qSN",
        "outputId": "a545aed3-931f-4bda-b450-52d9b53998e2"
      },
      "execution_count": 41,
      "outputs": [
        {
          "output_type": "stream",
          "name": "stdout",
          "text": [
            "\n",
            "    Name: John\n",
            "    Surname: Doe\n",
            "    Age: 27\n",
            "    Salary: 3000\n",
            "    Title: Finance Spealist\n",
            "    \n"
          ]
        }
      ]
    },
    {
      "cell_type": "code",
      "source": [
        "employee.change_title('Finance Expert')\n",
        "employee.increase_salary(0.4)\n",
        "employee.get_information()"
      ],
      "metadata": {
        "colab": {
          "base_uri": "https://localhost:8080/"
        },
        "id": "rAnUCrdhD8t7",
        "outputId": "ee5c32fb-bb47-4650-ffbe-5691dc7555f1"
      },
      "execution_count": 42,
      "outputs": [
        {
          "output_type": "stream",
          "name": "stdout",
          "text": [
            "The new title is Finance Expert\n",
            "The new salary is 4200.0\n",
            "\n",
            "    Name: John\n",
            "    Surname: Doe\n",
            "    Age: 27\n",
            "    Salary: 4200.0\n",
            "    Title: Finance Expert\n",
            "    \n"
          ]
        }
      ]
    },
    {
      "cell_type": "markdown",
      "source": [
        "# Inheritance"
      ],
      "metadata": {
        "id": "pZ8aSnzVFBQ5"
      }
    },
    {
      "cell_type": "code",
      "source": [
        "class Manager(Employee):\n",
        "  pass"
      ],
      "metadata": {
        "id": "l2z5WJ2CFDgv"
      },
      "execution_count": 43,
      "outputs": []
    },
    {
      "cell_type": "code",
      "source": [
        "manager = Manager(\"Jack\",\"Denver\", 34, 5000, 'CEO')\n",
        "manager.get_information()"
      ],
      "metadata": {
        "colab": {
          "base_uri": "https://localhost:8080/"
        },
        "id": "B62mqRehK7ny",
        "outputId": "6b96df62-c762-4459-8007-4c0defefb6bd"
      },
      "execution_count": 44,
      "outputs": [
        {
          "output_type": "stream",
          "name": "stdout",
          "text": [
            "\n",
            "    Name: Jack\n",
            "    Surname: Denver\n",
            "    Age: 34\n",
            "    Salary: 5000\n",
            "    Title: CEO\n",
            "    \n"
          ]
        }
      ]
    },
    {
      "cell_type": "code",
      "source": [
        "dir(manager)"
      ],
      "metadata": {
        "colab": {
          "base_uri": "https://localhost:8080/"
        },
        "id": "dPIOV9UcLevI",
        "outputId": "744d41ba-5d6b-46d4-bbce-c2207310cbdb"
      },
      "execution_count": 45,
      "outputs": [
        {
          "output_type": "execute_result",
          "data": {
            "text/plain": [
              "['__class__',\n",
              " '__delattr__',\n",
              " '__dict__',\n",
              " '__dir__',\n",
              " '__doc__',\n",
              " '__eq__',\n",
              " '__format__',\n",
              " '__ge__',\n",
              " '__getattribute__',\n",
              " '__gt__',\n",
              " '__hash__',\n",
              " '__init__',\n",
              " '__init_subclass__',\n",
              " '__le__',\n",
              " '__lt__',\n",
              " '__module__',\n",
              " '__ne__',\n",
              " '__new__',\n",
              " '__reduce__',\n",
              " '__reduce_ex__',\n",
              " '__repr__',\n",
              " '__setattr__',\n",
              " '__sizeof__',\n",
              " '__str__',\n",
              " '__subclasshook__',\n",
              " '__weakref__',\n",
              " 'age',\n",
              " 'change_title',\n",
              " 'get_information',\n",
              " 'increase_salary',\n",
              " 'name',\n",
              " 'salary',\n",
              " 'surname',\n",
              " 'title']"
            ]
          },
          "metadata": {},
          "execution_count": 45
        }
      ]
    },
    {
      "cell_type": "code",
      "source": [
        "class Manager(Employee):\n",
        "  def increase_salary_for_manager(self, ratio):\n",
        "    self.salary += self.salary * ratio"
      ],
      "metadata": {
        "id": "4aCAxlhaLi2t"
      },
      "execution_count": 46,
      "outputs": []
    },
    {
      "cell_type": "code",
      "source": [
        "manager = Manager(\"Sacha\", \"Kearney\", 34, 7000, \"Finance Team Lead\")\n",
        "manager.increase_salary_for_manager(0.3)\n",
        "manager.get_information()"
      ],
      "metadata": {
        "colab": {
          "base_uri": "https://localhost:8080/"
        },
        "id": "IKPwvRiNMsak",
        "outputId": "a21978f4-6db2-46eb-e4d3-3bae30b380a8"
      },
      "execution_count": 47,
      "outputs": [
        {
          "output_type": "stream",
          "name": "stdout",
          "text": [
            "\n",
            "    Name: Sacha\n",
            "    Surname: Kearney\n",
            "    Age: 34\n",
            "    Salary: 9100.0\n",
            "    Title: Finance Team Lead\n",
            "    \n"
          ]
        }
      ]
    },
    {
      "cell_type": "code",
      "source": [
        "class Manager(Employee):\n",
        "  def __init__(self, name, surname, age, title, salary, languages):\n",
        "    self.name = name\n",
        "    self.surname = surname\n",
        "    self.age = age\n",
        "    self.title = title\n",
        "    self.salary = salary\n",
        "    self.languages = languages"
      ],
      "metadata": {
        "id": "I3q_x6nKPDU7"
      },
      "execution_count": 50,
      "outputs": []
    },
    {
      "cell_type": "code",
      "source": [
        "class Manager(Employee):\n",
        "  def __init__(self, name, surname, age, title, salary, languages):\n",
        "    self.name = name\n",
        "    self.surname = surname\n",
        "    self.age = age\n",
        "    self.title = title\n",
        "    self.salary = salary\n",
        "    self.languages = languages\n",
        "\n",
        "  def get_information(self):\n",
        "    print(\"\"\"\n",
        "    Name: {}\n",
        "    Surname: {}\n",
        "    Age: {}\n",
        "    Salary: {}\n",
        "    Title: {}\n",
        "    Languages: {}\n",
        "    \"\"\".format(self.name, self.surname, self.age, self.salary, self.title, self.languages))"
      ],
      "metadata": {
        "id": "lrFMhuXMQ2ow"
      },
      "execution_count": 51,
      "outputs": []
    },
    {
      "cell_type": "code",
      "source": [
        "manager = Manager(\"Sacha\", \"Kearney\", 34, 7000, \"Finance Team Lead\", \"English\")\n",
        "manager.get_information()"
      ],
      "metadata": {
        "colab": {
          "base_uri": "https://localhost:8080/"
        },
        "id": "bDoz5LlORCP-",
        "outputId": "81c101ad-f33b-49cd-f3d2-399d5c9cf2e2"
      },
      "execution_count": 53,
      "outputs": [
        {
          "output_type": "stream",
          "name": "stdout",
          "text": [
            "\n",
            "    Name: Sacha\n",
            "    Surname: Kearney\n",
            "    Age: 34\n",
            "    Salary: Finance Team Lead\n",
            "    Title: 7000\n",
            "    Languages: English\n",
            "    \n"
          ]
        }
      ]
    },
    {
      "cell_type": "code",
      "source": [
        "manager = Manager(\"Sacha\", \"Kearney\", 34, 7000, \"Finance Team Lead\", ['English','Portuguese', 'Spanish'])\n",
        "manager.get_information()"
      ],
      "metadata": {
        "colab": {
          "base_uri": "https://localhost:8080/"
        },
        "id": "k09e6jHWRfMo",
        "outputId": "6f495a5e-bd1a-4994-a062-1e6b1256bf0a"
      },
      "execution_count": 55,
      "outputs": [
        {
          "output_type": "stream",
          "name": "stdout",
          "text": [
            "\n",
            "    Name: Sacha\n",
            "    Surname: Kearney\n",
            "    Age: 34\n",
            "    Salary: Finance Team Lead\n",
            "    Title: 7000\n",
            "    Languages: ['English', 'Portuguese', 'Spanish']\n",
            "    \n"
          ]
        }
      ]
    },
    {
      "cell_type": "markdown",
      "source": [
        "# \"Super\""
      ],
      "metadata": {
        "id": "OmfrxgP7S0NQ"
      }
    },
    {
      "cell_type": "code",
      "source": [
        "class Employee():\n",
        "  def __init__(self, name, surname, age, salary, title):\n",
        "    self.name = name\n",
        "    self.surname = surname\n",
        "    self.age = age\n",
        "    self.salary = salary\n",
        "    self.title = title"
      ],
      "metadata": {
        "id": "1MNtmo5mTe_S"
      },
      "execution_count": 69,
      "outputs": []
    },
    {
      "cell_type": "code",
      "source": [
        "class Manager(Employee):\n",
        "  def __init__(self, name, surname, age, title, salary, languages):\n",
        "    self.name = name\n",
        "    self.surname = surname\n",
        "    self.age = age\n",
        "    self.title = title\n",
        "    self.salary = salary\n",
        "    self.languages = languages"
      ],
      "metadata": {
        "id": "Je3YBg2FTFoY"
      },
      "execution_count": 81,
      "outputs": []
    },
    {
      "cell_type": "code",
      "source": [
        "class Manager(Employee):\n",
        "  def __init__(self, name, surname, age, title, salary, languages):\n",
        "    super().__init__(name, surname, age, title, salary)\n",
        "    self.languages = languages\n",
        "\n",
        "  def get_information(self):\n",
        "    print(\"\"\"\n",
        "    Name: {}\n",
        "    Surname: {}\n",
        "    Age: {}\n",
        "    Salary: {}\n",
        "    Title: {}\n",
        "    Languages: {}\n",
        "    \"\"\".format(self.name, self.surname, self.age, self.salary, self.title, self.languages))"
      ],
      "metadata": {
        "id": "adHW0mTTT5el"
      },
      "execution_count": 82,
      "outputs": []
    },
    {
      "cell_type": "code",
      "source": [
        "manager = Manager(\"Sacha\", \"Kearney\", 34, \"Finance Team Lead\", 7000 , ['English','Portuguese', 'Spanish'])\n",
        "manager.get_information()"
      ],
      "metadata": {
        "colab": {
          "base_uri": "https://localhost:8080/"
        },
        "id": "SD7CC_DZUQyW",
        "outputId": "a3694618-e76e-4044-ff3b-08350330cfbb"
      },
      "execution_count": 83,
      "outputs": [
        {
          "output_type": "stream",
          "name": "stdout",
          "text": [
            "\n",
            "    Name: Sacha\n",
            "    Surname: Kearney\n",
            "    Age: 34\n",
            "    Salary: Finance Team Lead\n",
            "    Title: 7000\n",
            "    Languages: ['English', 'Portuguese', 'Spanish']\n",
            "    \n"
          ]
        }
      ]
    },
    {
      "cell_type": "markdown",
      "source": [
        "# Special Methods\n",
        "Special methods are a set of predefined methods in Python that you can use to enhance your classes. Because they begin and conclude with double underscores, such as __init__ or __str__, they are easily identifiable.\n",
        "\n",
        "Pythoneer used the term \"dunder methods\" as a short form of \"double under,\" as saying under-under-method-under-under grew monotonous.\n",
        "\n",
        "\n",
        "\n",
        "In Python, these \"dunders\" or \"special methods\" are sometimes known as \"magic methods.\" However, adopting this phrase can make things appear more sophisticated than they are—at the end of the day, they aren't \"magical.\" These methods should be treated as if they were a standard language feature.\n",
        "\n",
        "What kind of special methods we have? For Example;\n",
        "* __init__\n",
        "* __str__\n",
        "* __len__"
      ],
      "metadata": {
        "id": "gcYY3Z1GXbHi"
      }
    },
    {
      "cell_type": "code",
      "source": [
        "class Animal():\n",
        "  def __init__(self, name, age, number_of_feet):\n",
        "    self.name = name\n",
        "    self.age = age\n",
        "    self.number_of_feet = number_of_feet\n",
        "\n",
        "  def __str__(self):\n",
        "    return \"Name: {}\\nAge: {}\\nNumber of Feet: {}\".format(self.name, self.age, self.number_of_feet)\n",
        "\n",
        "  def __len__(self):\n",
        "    return len(self.name)"
      ],
      "metadata": {
        "id": "44hajdxAXfI4"
      },
      "execution_count": 84,
      "outputs": []
    },
    {
      "cell_type": "code",
      "source": [
        "lion = Animal('Lion', 4, 4)\n",
        "print(lion)"
      ],
      "metadata": {
        "colab": {
          "base_uri": "https://localhost:8080/"
        },
        "id": "d9ipIRXjckxn",
        "outputId": "eb658923-5a28-48b6-a98a-fcac23d2f8be"
      },
      "execution_count": 85,
      "outputs": [
        {
          "output_type": "stream",
          "name": "stdout",
          "text": [
            "Name: Lion\n",
            "Age: 4\n",
            "Number of Feet: 4\n"
          ]
        }
      ]
    },
    {
      "cell_type": "code",
      "source": [
        "len(lion)"
      ],
      "metadata": {
        "colab": {
          "base_uri": "https://localhost:8080/"
        },
        "id": "49nghuluhCj1",
        "outputId": "91c4d018-6f58-4675-e241-3e999aa3e4f2"
      },
      "execution_count": 87,
      "outputs": [
        {
          "output_type": "execute_result",
          "data": {
            "text/plain": [
              "4"
            ]
          },
          "metadata": {},
          "execution_count": 87
        }
      ]
    },
    {
      "cell_type": "code",
      "source": [
        "listed = [1, 2, 3, 4, 5]\n"
      ],
      "metadata": {
        "id": "Bi1z83UyIqSn"
      },
      "execution_count": 88,
      "outputs": []
    },
    {
      "cell_type": "code",
      "source": [
        "str"
      ],
      "metadata": {
        "id": "M5nffwLLM2a7",
        "colab": {
          "base_uri": "https://localhost:8080/"
        },
        "outputId": "9294b78f-8213-45ff-cd5a-be99339acb09"
      },
      "execution_count": 89,
      "outputs": [
        {
          "output_type": "execute_result",
          "data": {
            "text/plain": [
              "str"
            ]
          },
          "metadata": {},
          "execution_count": 89
        }
      ]
    }
  ]
}